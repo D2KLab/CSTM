{
 "cells": [
  {
   "cell_type": "code",
   "execution_count": 1,
   "metadata": {},
   "outputs": [],
   "source": [
    "import os\n",
    "import random\n",
    "import numpy as np\n",
    "import pandas as pd"
   ]
  },
  {
   "cell_type": "code",
   "execution_count": 2,
   "metadata": {},
   "outputs": [],
   "source": [
    "models = ['cstm', 'kmeans', 'lda']\n",
    "datasets = ['bbc', 'ag', '20ng_all', 'afp_mono']"
   ]
  },
  {
   "cell_type": "code",
   "execution_count": 3,
   "metadata": {},
   "outputs": [],
   "source": [
    "dfs = {}\n",
    "for dataset in datasets:\n",
    "    dfs[dataset] = pd.read_csv('data/'+dataset+'.csv')"
   ]
  },
  {
   "cell_type": "code",
   "execution_count": 4,
   "metadata": {},
   "outputs": [],
   "source": [
    "topics = {}"
   ]
  },
  {
   "cell_type": "code",
   "execution_count": 5,
   "metadata": {},
   "outputs": [],
   "source": [
    "topics['bbc-cstm'] = [['computing', 'hardware', 'computer', 'digital', 'internet', 'user', 'portable', 'technology', 'napster', 'data'], ['sport', 'sports', 'football', 'game', 'rugby', 'player', 'soccer', 'playing', 'winning', 'cricket'], ['politics', 'parliament', 'political', 'government', 'politician', 'manifesto', 'minister', 'president', 'opposition', 'democratic'], ['movie', 'musical', 'soundtrack', 'bafta', 'films', 'movies', 'horror', 'screen', 'gobo', 'opera'], ['sale', 'stock', 'price', 'market', 'business', 'finance', 'commerce', 'economics', 'economic', 'value']]\n",
    "topics['bbc-kmeans'] = [['game', 'england', 'players', 'club', 'team', 'cup', 'win', 'injury', 'season', 'play'], ['said', 'year', 'market', 'company', 'people', 'mr', 'firm', 'new', 'growth', 'million'], ['mr', 'said', 'election', 'labour', 'government', 'blair', 'party', 'minister', 'people', 'secretary'], ['film', 'best', 'awards', 'award', 'said', 'films', 'year', 'star', 'actor', 'years'], ['seed', 'open', 'federer', 'australian', 'win', 'final', 'match', 'roddick', 'set', 'second']]\n",
    "topics['bbc-lda'] = [['indoor', 'championships', 'champion', 'olympic', 'mens', 'world', 'race', 'holmes', 'european', 'womens'], ['mr', 'election', 'blair', 'labour', 'said', 'government', 'party', 'minister', 'prime', 'leader'], ['game', 'match', 'win', 'cup', 'england', 'coach', 'players', 'said', 'play', 'team'], ['said', 'film', 'people', 'music', 'new', 'best', 'year', 'tv', 'years', 'uk'], ['said', 'market', 'growth', 'economy', 'shares', 'company', 'year', 'firm', 'economic', 'oil']]\n",
    "\n",
    "topics['ag-cstm'] = [['sport', 'sports', 'football', 'ball', 'game', 'playing', 'games', 'play', 'soccer', 'rugby'], ['political', 'government', 'iraq', 'minister', 'president', 'officer', 'country', 'executive', 'politician', 'chief'], ['cahoot', 'xing', 'capcom', 'greenback', 'bmc', 'bushel', 'ftc', 'freddie', 'paypal', 'benny'], ['company', 'year', 'day', 'number', 'business', 'computer', 'time', 'computing', 'internet', 'profit']]\n",
    "topics['ag-kmeans'] = [['said', 'new', 'ap', 'company', 'world', 'reuters', 'oil', 'microsoft', 'software'], ['said', 'monday', 'reuters', 'government', 'killed', 'security', 'china', 'south', 'north'], ['sox', 'night', 'red', 'league', 'boston', 'like', 'ap', 'game', 'series', 'title'], ['iraq', 'released', 'head', 'iraqi', 'militants', 'french', 'minister', 'said', 'prime', 'hostage']]\n",
    "topics['ag-lda'] = [['reuters', 'us', 'said', 'oil', 'new', 'year', 'billion', 'percent', 'inc'], ['said', 'us',  'ap', 'reuters', 'president', 'iraq', 'minister', 'two', 'court'], ['new', 'microsoft', 'software', 'search', 'internet', 'company', 'service', 'online', 'computer'], ['said', 'ap', 'game', 'season', 'first', 'new', 'one', 'night', 'team', 'year']]\n",
    "\n",
    "topics['20ng_all-cstm'] = [['god', 'religion', 'christianity', 'christ', 'christian', 'jesus', 'religious', 'messiah', 'church', 'lord'], ['apollo', 'rocket', 'moon', 'planet', 'satellite', 'astronaut', 'astronomy', 'space', 'sun', 'sirtf'], ['computing', 'driv', 'drivable', 'aik', 'outdrive', 'crankshaft', 'overdrive', 'defragmentation', 'piloting', 'charioteer'], ['computer', 'like', 'computing', 'writing', 'form', 'information', 'paper', 'software', 'copy', 'print'], ['mail', 'mailing', 'letter', 'envelope', 'post', 'mailbox', 'email', 'mailed', 'pamphlet', 'send'], ['car', 'like', 'drive', 'turn', 'motorcycle', 'heat', 'place', 'water', 'bicycle', 'gas'], ['pistol', 'revolver', 'weapon', 'gun', 'rifle', 'shotgun', 'killing', 'glock', 'handgun', 'bullet'], ['baseball', 'sport', 'softball', 'player', 'hockey', 'fan', 'game', 'playoff', 'playing', 'pinball'], ['sale', 'selling', 'market', 'buying', 'retail', 'price', 'auction', 'shopping', 'bargain', 'merchandise'], ['encryption', 'cryptography', 'keyphrase', 'keyring', 'decode', 'key', 'keypair', 'password', 'subkey', 'keyless'], ['information', 'report', 'update', 'informative', 'news', 'informational', 'computing', 'info', 'propaganda', 'internet'], ['like', 'person', 'place', 'time', 'think', 'information', 'say', 'right', 'question', 'point'], ['colormap', 'pseudocolor', 'velveteen', 'paleness', 'shading', 'monochrome', 'multicolor', 'crayon', 'indigo', 'crimson'], ['car', 'automobile', 'vehicle', 'saab', 'ford', 'turbocharger', 'van', 'hardtop', 'sunroof', 'driving'], ['country', 'government', 'people', 'place', 'nation', 'like', 'law', 'person', 'city', 'republic'], ['iconize', 'glassed', 'windowed', 'windowing', 'subwindow', 'windowless', 'stained', 'smashed', 'widget', 'glassy'], ['sport', 'player', 'hockey', 'team', 'baseball', 'game', 'playing', 'fan', 'football', 'ace'], ['medicine', 'illness', 'disease', 'medication', 'medical', 'symptom', 'pathology', 'penicillin', 'doctor', 'hospital'], ['religion', 'christian', 'christianity', 'god', 'church', 'religious', 'christ', 'like', 'cathedral', 'crucifix'], ['computing', 'computer', 'software', 'device', 'program', 'hardware', 'bot', 'network', 'office', 'memory']]\n",
    "topics['20ng_all-kmeans'] = [['thanks', 'printer', 'mail', 'advance', 'port', 'know', 'modem', 'help', 'mac', 'info'], ['homosexual', 'gay', 'men', 'homosexuality', 'people', 'sex', 'cramer', 'clayton', 'kaldis', 'woman'], ['gun', 'weapon', 'firearm', 'people', 'law', 'government', 'handgun', 'criminal', 'control', 'right'], ['christian', 'jesus', 'morality', 'objective', 'people', 'moral', 'say', 'god', 'bible', 'christianity'], ['like', 'know', 'space', 'time', 'think', 'car', 'people', 'good', 'year', 'thing'], ['drug', 'doctor', 'cancer', 'treatment', 'medicine', 'weight', 'gordon', 'medical', 'disease', 'bank'], ['insurance', 'tax', 'detector', 'company', 'radar', 'car', 'health', 'federal', 'law', 'hook'], ['card', 'graphic', 'video', 'mouse', 'driver', 'mode', 'server', 'memory', 'problem', 'screen'], ['game', 'team', 'player', 'win', 'hockey', 'play', 'year', 'season', 'fan', 'playoff'], ['sale', 'offer', 'shipping', 'condition', 'asking', 'email', 'modem', 'sell', 'new', 'manual'], ['armenian', 'israeli', 'israel', 'arab', 'jew', 'turkish', 'soldier', 'armenia', 'people', 'turk'], ['bike', 'motorcycle', 'dod', 'ride', 'dog', 'riding', 'rider', 'bmw', 'honda', 'yamaha'], ['fbi', 'batf', 'atf', 'koresh', 'compound', 'waco', 'child', 'survivor', 'people', 'stove'], ['god', 'jesus', 'bible', 'atheist', 'belief', 'say', 'people', 'faith', 'life', 'believe'], ['file', 'format', 'window', 'bmp', 'directory', 'tiff', 'image', 'ftp', 'cview', 'gif'], ['monitor', 'price', 'car', 'simms', 'model', 'new', 'mhz', 'mac', 'speed', 'chip'], ['msg', 'food', 'max', 'diet', 'glutamate', 'chinese', 'seizure', 'sensitivity', 'yeast', 'study'], ['key', 'encryption', 'chip', 'clipper', 'escrow', 'government', 'secure', 'algorithm', 'public', 'crypto'], ['drive', 'scsi', 'ide', 'disk', 'controller', 'hard', 'floppy', 'mac', 'problem', 'rom'], ['window', 'application', 'manager', 'program', 'problem', 'screen', 'driver', 'win', 'using', 'file']]\n",
    "topics['20ng_all-lda'] = [['sale', 'like', 'time', 'know', 'new', 'get', 'speed', 'drive', 'car', 'price'], ['think', 'people', 'time', 'say', 'said', 'come', 'like', 'know', 'day', 'year'], ['people', 'armenian', 'militia', 'homosexual', 'know', 'right', 'well', 'year', 'water', 'men'], ['drive', 'card', 'scsi', 'like', 'disk', 'know', 'get', 'controller', 'need', 'doe'], ['armenian', 'team', 'year', 'game', 'get', 'turkish', 'people', 'hockey', 'like', 'european'], ['year', 'team', 'game', 'last', 'time', 'season', 'good', 'run', 'first', 'league'], ['president', 'like', 'package', 'rider', 'know', 'jupiter', 'first', 'new', 'think', 'time'], ['window', 'file', 'thanks', 'system', 'problem', 'get', 'program', 'know', 'work', 'like'], ['like', 'people', 'get', 'know', 'think', 'year', 'make', 'time', 'question', 'much'], ['power', 'people', 'government', 'get', 'think', 'time', 'thing', 'system', 'much', 'say'], ['key', 'chip', 'encryption', 'government', 'clipper', 'people', 'law', 'public', 'number', 'get'], ['image', 'get', 'like', 'time', 'people', 'new', 'even', 'read', 'doe', 'surface'], ['max', 'bhj', 'rlk', 'giz', 'chz', 'zei', 'qax', 'bxn', 'mcx', 'air'], ['people', 'right', 'say', 'think', 'like', 'thing', 'time', 'question', 'law', 'system'], ['gun', 'time', 'get', 'like', 'know', 'think', 'people', 'make', 'thing', 'right'], ['israel', 'israeli', 'people', 'jew', 'right', 'state', 'government', 'arab', 'war', 'country'], ['god', 'people', 'jesus', 'christian', 'say', 'believe', 'bible', 'doe', 'think', 'know'], ['car', 'bike', 'time', 'new', 'good', 'like', 'thing', 'get', 'know', 'think'], ['know', 'alomar', 'hall', 'say', 'year', 'last', 'run', 'like', 'plane', 'get'], ['space', 'team', 'game', 'hockey', 'win', 'key', 'nasa', 'van', 'first', 'year']]\n",
    "\n",
    "topics['afp_mono-cstm'] = [['military', 'government', 'army', 'country', 'attack', 'war', 'police', 'force', 'people', 'city'], ['city', 'england', 'government', 'town', 'place', 'state', 'nation', 'country', 'leicester', 'london'], ['country', 'government', 'nation', 'state', 'political', 'office', 'republic', 'president', 'city', 'law'], ['government', 'country', 'office', 'place', 'person', 'city', 'state', 'time', 'nation', 'year'], ['wta', 'atp', 'itf', 'resulted', 'conducive', 'repeatable', 'eventuate', 'consequent', 'repercussion', 'reverberation'], ['country', 'sport', 'game', 'round', 'contest', 'place', 'winner', 'golf', 'league', 'final'], ['time', 'place', 'year', 'game', 'second', 'period', 'minute', 'day', 'score', 'point'], ['inventory', 'merchandise', 'commerce', 'stock', 'market', 'tip', 'ppq', 'ppm', 'trade', 'patency'], ['business', 'commerce', 'value', 'market', 'finance', 'company', 'economics', 'price', 'sale', 'money'], ['russia', 'kremlin', 'ryazan', 'sheremetyevo', 'tula', 'rus', 'moskva', 'cosmodrome', 'russian', 'nyet'], ['cricket', 'country', 'sport', 'calder', 'wilton', 'warburton', 'gloucester', 'barrington', 'rugby', 'pilton'], ['political', 'president', 'election', 'vote', 'politics', 'voting', 'government', 'elections', 'crossbencher', 'elect'], ['sport', 'team', 'year', 'football', 'game', 'player', 'place', 'time', 'playing', 'soccer'], ['dravidian', 'lungi', 'subcontinent', 'punjab', 'indus', 'thar', 'india', 'hindu', 'bharatiya', 'urdu']]\n",
    "topics['afp_mono-kmeans'] = [['trump', 'iran', 'president', 'said', 'donald', 'kim', 'say', 'state', 'nuclear', 'korea'], ['table', 'football', 'nenglish', 'league', 'nafp', 'english', 'premier', 'result', 'ham', 'palace'], ['kir', 'taliban', 'bur', 'round', 'afghan', 'score', 'golf', 'afghanistan', 'kabul', 'mjg'], ['said', 'police', 'people', 'official', 'killed', 'told', 'year', 'death', 'state', 'statement'], ['open', 'atp', 'final', 'tennis', 'nadal', 'federer', 'wta', 'wimbledon', 'seed', 'djokovic'], ['election', 'party', 'vote', 'president', 'minister', 'leader', 'government', 'said', 'parliament', 'political'], ['cup', 'world', 'rugby', 'team', 'coach', 'final', 'football', 'game', 'africa', 'south'], ['wicket', 'test', 'inning', 'run', 'cricket', 'england', 'australia', 'series', 'pakistan', 'ball'], ['league', 'season', 'game', 'club', 'goal', 'champion', 'player', 'minute', 'team', 'manchester'], ['serie', 'milan', 'juventus', 'lazio', 'football', 'result', 'napoli', 'fiorentina', 'atalanta', 'ligue'], ['com', 'business', 'company', 'businesswire', 'release', 'content', 'material', 'www', 'wire', 'contact'], ['syria', 'killed', 'gaza', 'israeli', 'syrian', 'jihadist', 'force', 'border', 'attack', 'said'], ['percent', 'index', 'stock', 'trade', 'point', 'kong', 'yen', 'benchmark', 'china', 'composite'], ['race', 'win', 'world', 'tour', 'title', 'champion', 'time', 'second', 'championship', 'stage']]\n",
    "topics['afp_mono-lda'] = [['america', 'percent', 'gmt', 'president', 'latin', 'economic', 'mexico', 'rate', 'minister', 'oil'], ['court', 'election', 'nthe', 'politics', 'trial', 'year', 'bank', 'minister', 'hold', 'live'], ['picture', 'video', 'live', 'africa', 'world', 'graphic', 'paris', 'result', 'london', 'saharan'], ['video', 'new', 'trump', 'york', 'conference', 'word', 'com', 'hearing', 'washington', 'america'], ['syria', 'saudi', 'group', 'attack', 'said', 'israel', 'israeli', 'iran', 'military', 'east'], ['point', 'first', 'said', 'year', 'time', 'second', 'two', 'last', 'back', 'one'], ['ebola', 'turkey', 'congo', 'turkish', 'kurdish', 'republic', 'brussels', 'istanbul', 'ankara', 'drc'], ['data', 'said', 'release', 'case', 'statement', 'global', 'material', 'afp', 'information', 'source'], ['india', 'australia', 'pakistan', 'indian', 'cricket', 'test', 'day', 'afghanistan', 'new', 'ecb'], ['percent', 'yen', 'tokyo', 'stock', 'japan', 'index', 'higher', 'japanese', 'ntokyo', 'said'], ['percent', 'said', 'deal', 'new', 'year', 'market', 'brexit', 'solution', 'european', 'nthe'], ['said', 'year', 'com', 'company', 'million', 'patient', 'business', 'world', 'one', 'service'], ['people', 'said', 'protest', 'city', 'killed', 'police', 'afp', 'government', 'fire', 'state'], ['china', 'trade', 'billion', 'chinese', 'asia', 'market', 'beijing', 'kong', 'economy', 'percent']]"
   ]
  },
  {
   "cell_type": "markdown",
   "metadata": {},
   "source": [
    "## Task 1"
   ]
  },
  {
   "cell_type": "code",
   "execution_count": 10,
   "metadata": {},
   "outputs": [
    {
     "name": "stdout",
     "output_type": "stream",
     "text": [
      "bbc-cstm   \t: computer\tcomputing\tbafta\tdigital\thardware\tinternet -- bafta\n",
      "ag-cstm   \t: sport\tbusiness\tsports\tgame\tball\tfootball -- business\n",
      "20ng_all-cstm   \t: softball\ticonize\tglassed\twindowing\twindowed\tsubwindow -- softball\n",
      "afp_mono-cstm   \t: finance\tteam\tsport\tgame\tfootball\tyear -- finance\n",
      "bbc-kmeans   \t: win\tseed\topen\tbest\tfederer\taustralian -- best\n",
      "ag-kmeans   \t: government\tkilled\treuters\tmonday\tworld\tsaid -- world\n",
      "20ng_all-kmeans   \t: card\tgraphic\tvideo\tmouse\tmail\tdriver -- mail\n",
      "afp_mono-kmeans   \t: killed\tserie\tpeople\tofficial\tsaid\tpolice -- serie\n",
      "bbc-lda   \t: match\tgame\tnew\tcup\twin\tengland -- new\n",
      "ag-lda   \t: said\treuters\tgame\tus\toil\tnew -- game\n",
      "20ng_all-lda   \t: president\tlike\tknow\trider\tpower\tpackage -- power\n",
      "afp_mono-lda   \t: billion\tstatement\ttrade\tchina\tasia\tchinese -- statement\n"
     ]
    }
   ],
   "source": [
    "for model in models:\n",
    "    for dataset in datasets:\n",
    "        pair = dataset + '-' + model\n",
    "        t1, t2 = np.random.choice(len(topics[pair]), 2, replace=False)\n",
    "        topic1 = topics[pair][t1][:5]\n",
    "        topic2 = topics[pair][t2][:5]\n",
    "        odd = topic2[np.random.randint(5)]\n",
    "        topic1.append(odd)\n",
    "        np.random.shuffle(topic1)\n",
    "        print(pair, '  \\t:', '\\t'.join(topic1), '--', odd)"
   ]
  },
  {
   "cell_type": "markdown",
   "metadata": {},
   "source": [
    "## Task 2"
   ]
  },
  {
   "cell_type": "code",
   "execution_count": 11,
   "metadata": {},
   "outputs": [
    {
     "name": "stdout",
     "output_type": "stream",
     "text": [
      "bbc - cstm - T1 : sport\tsports\tfootball\tgame\trugby\n",
      "bbc - kmeans - T2 : mr\tsaid\telection\tlabour\tgovernment\n",
      "bbc - lda - T1 : mr\telection\tblair\tlabour\tsaid\n",
      "ag - cstm - T0 : sport\tsports\tfootball\tball\tgame\n",
      "ag - kmeans - T0 : said\tnew\tap\tcompany\tworld\n",
      "ag - lda - T0 : reuters\tus\tsaid\toil\tnew\n",
      "20ng_all - cstm - T17 : medicine\tillness\tdisease\tmedication\tmedical\n",
      "20ng_all - kmeans - T17 : key\tencryption\tchip\tclipper\tescrow\n",
      "20ng_all - lda - T10 : key\tchip\tencryption\tgovernment\tclipper\n",
      "afp_mono - cstm - T3 : government\tcountry\toffice\tplace\tperson\n",
      "afp_mono - kmeans - T1 : table\tfootball\tnenglish\tleague\tnafp\n",
      "afp_mono - lda - T10 : percent\tsaid\tdeal\tnew\tyear\n"
     ]
    }
   ],
   "source": [
    "for dataset in datasets:\n",
    "    for model in models:\n",
    "        t = np.random.randint(len(topics[dataset+'-'+model]))\n",
    "        topic = topics[dataset+'-'+model][t]\n",
    "        print(dataset, '-', model, '-', 'T' + str(t),':', '\\t'.join(topic[:5]))"
   ]
  },
  {
   "cell_type": "markdown",
   "metadata": {},
   "source": [
    "## Task 3"
   ]
  },
  {
   "cell_type": "code",
   "execution_count": 12,
   "metadata": {},
   "outputs": [
    {
     "name": "stdout",
     "output_type": "stream",
     "text": [
      "# 143 @ bbc - [tech] - Consumer concern over RFID tags  Consumers are very concerned about the use of radio frequency ID (RFID) tags in shops, a survey says.  More than half of 2,000 people surveyed said they had privacy worries about the tags, which can be used to monitor stock on shelves or..\n",
      "\n",
      "# 47868 @ ag - [Business] - Artworks Rushed to Auctions as Houses Expect Heated Sales - Collectors have consigned hundreds of millions of dollars' worth of art for the November sales in New York...\n",
      "\n",
      "# 6124 @ 20ng_all - [soc.religion.christian] - atheist view christianity accepting jeesus heart certainly valid objection religion explanation nature fortunately convenience believer class question never reduced away natural science example doe universe exist must ask also assume god namely exists existence question reversed assume universe exists assume god exist must universe time space world exist doe anything..\n",
      "\n",
      "# 53682 @ afp_mono - [16000000] - see major breakout islamic state militant syria official fff sct..\n",
      "\n"
     ]
    }
   ],
   "source": [
    "for dataset in datasets:\n",
    "    all_docs = dfs[dataset].text.values\n",
    "    all_labels = dfs[dataset].label.values\n",
    "    d = np.random.randint(len(all_docs))\n",
    "    print('#', d, '@', dataset, '- [' + str(all_labels[d]) + '] -', ' '.join(all_docs[d].split(' ')[:50]) + '..')\n",
    "    print('')"
   ]
  }
 ],
 "metadata": {
  "kernelspec": {
   "display_name": "Python 3",
   "language": "python",
   "name": "python3"
  },
  "language_info": {
   "codemirror_mode": {
    "name": "ipython",
    "version": 3
   },
   "file_extension": ".py",
   "mimetype": "text/x-python",
   "name": "python",
   "nbconvert_exporter": "python",
   "pygments_lexer": "ipython3",
   "version": "3.8.2"
  }
 },
 "nbformat": 4,
 "nbformat_minor": 4
}
